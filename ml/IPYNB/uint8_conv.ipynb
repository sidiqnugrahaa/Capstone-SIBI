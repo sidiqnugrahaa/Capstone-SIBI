{
 "cells": [
  {
   "cell_type": "code",
   "execution_count": 2,
   "id": "627239b9-968b-46cf-b587-f8c0024bac43",
   "metadata": {},
   "outputs": [],
   "source": [
    "import numpy as np\n",
    "import pandas as pd\n",
    "from pathlib import Path\n",
    "import os.path\n",
    "import matplotlib.pyplot as plt\n",
    "import tensorflow as tf\n",
    "import seaborn as sns\n",
    "from time import perf_counter\n",
    "from sklearn.metrics import confusion_matrix\n",
    "from sklearn.model_selection import train_test_split\n",
    "from sklearn.metrics import classification_report,accuracy_score\n",
    "from IPython.display import Markdown, display\n",
    "from tensorflow.keras.preprocessing.image import ImageDataGenerator\n",
    "from tensorflow.keras import layers"
   ]
  },
  {
   "cell_type": "code",
   "execution_count": 3,
   "id": "a0d584dc-875c-48da-8159-59de76891cac",
   "metadata": {},
   "outputs": [
    {
     "name": "stdout",
     "output_type": "stream",
     "text": [
      "780\n"
     ]
    }
   ],
   "source": [
    "# Create a list with the filepaths for training and testing\n",
    "dir_ = Path('Datasets/SIBI_SL/')\n",
    "\n",
    "\n",
    "ext = ['jpeg', 'jpg', 'png']    # Add image formats here\n",
    "\n",
    "files = []\n",
    "file_paths = []\n",
    "dir_ = Path(\"C:\\\\Users\\\\rizky\\\\Datasets\\\\SIBI_SL\")\n",
    "[files.extend(list(dir_.glob(r\"**/*\" + e )) for e in ext)]\n",
    "for i in range(len(files)):\n",
    "    file_paths.extend(files[i])\n",
    "print(len(file_paths))"
   ]
  },
  {
   "cell_type": "code",
   "execution_count": 4,
   "id": "23f7160a-c7d1-4fc8-8565-2f7ff463876a",
   "metadata": {},
   "outputs": [
    {
     "name": "stdout",
     "output_type": "stream",
     "text": [
      "['A' 'B' 'C' 'D' 'E' 'F' 'G' 'H' 'I' 'J' 'K' 'L' 'M' 'N' 'O' 'P' 'Q' 'R'\n",
      " 'S' 'T' 'U' 'V' 'W' 'X' 'Y' 'Z']\n"
     ]
    }
   ],
   "source": [
    "#Number of pictures and different labels in dataset\n",
    "def proc_img(filepath):\n",
    "\n",
    "    labels = [str(filepath[i]).split(\"\\\\\")[-2] \\\n",
    "              for i in range(len(filepath))]\n",
    "    filepath = pd.Series(filepath, name='Filepath').astype(str)\n",
    "    labels = pd.Series(labels, name='Label')\n",
    "    print(labels.unique())\n",
    "    # Concatenate filepaths and labels\n",
    "    df = pd.concat([filepath, labels], axis=1)\n",
    "\n",
    "    # Shuffle the DataFrame and reset index\n",
    "    df = df.sample(frac=1,random_state=0).reset_index(drop = True)\n",
    "    \n",
    "    return df\n",
    "\n",
    "df = proc_img(file_paths)"
   ]
  },
  {
   "cell_type": "code",
   "execution_count": 14,
   "id": "b861357a-c20a-4e36-8c37-1617647201b3",
   "metadata": {},
   "outputs": [],
   "source": [
    "train_df, test_df = train_test_split(df,test_size=0.05, random_state=42)"
   ]
  },
  {
   "cell_type": "code",
   "execution_count": 15,
   "id": "c2932085-d991-4fda-8951-b5102b929c1b",
   "metadata": {},
   "outputs": [
    {
     "name": "stdout",
     "output_type": "stream",
     "text": [
      "Found 235114 validated image filenames belonging to 26 classes.\n",
      "Found 26123 validated image filenames belonging to 26 classes.\n",
      "Found 13750 validated image filenames belonging to 26 classes.\n"
     ]
    }
   ],
   "source": [
    "train_generator = ImageDataGenerator(\n",
    "    preprocessing_function=tf.keras.applications.inception_v3.preprocess_input,\n",
    "    validation_split=0.1\n",
    ")\n",
    "\n",
    "test_generator = ImageDataGenerator(\n",
    "    preprocessing_function=tf.keras.applications.inception_v3.preprocess_input\n",
    ")\n",
    "\n",
    "train_images = train_generator.flow_from_dataframe(\n",
    "    dataframe=train_df,\n",
    "    x_col='Filepath',\n",
    "    y_col='Label',\n",
    "    target_size=(224, 224),\n",
    "    color_mode='rgb',\n",
    "    class_mode='categorical',\n",
    "    batch_size=32,\n",
    "    shuffle=True,\n",
    "    seed=0,\n",
    "    subset='training',\n",
    "    brightness_range=[0.7,1.3]\n",
    ")\n",
    "\n",
    "val_images = train_generator.flow_from_dataframe(\n",
    "    dataframe=train_df,\n",
    "    x_col='Filepath',\n",
    "    y_col='Label',\n",
    "    target_size=(224, 224),\n",
    "    color_mode='rgb',\n",
    "    class_mode='categorical',\n",
    "    batch_size=32,\n",
    "    shuffle=True,\n",
    "    seed=0,\n",
    "    subset='validation',\n",
    "    brightness_range=[0.7,1.3]\n",
    ")\n",
    "\n",
    "test_images = test_generator.flow_from_dataframe(\n",
    "    dataframe=test_df,\n",
    "    x_col='Filepath',\n",
    "    y_col='Label',\n",
    "    target_size=(224, 224),\n",
    "    color_mode='rgb',\n",
    "    class_mode='categorical',\n",
    "    batch_size=32,\n",
    "    shuffle=False\n",
    ")"
   ]
  },
  {
   "cell_type": "code",
   "execution_count": 21,
   "id": "b3b4bda2-f7ee-4a1d-9a1e-4be7cd7d114e",
   "metadata": {},
   "outputs": [],
   "source": [
    "from tensorflow import keras\n",
    "model = keras.models.load_model('C:\\\\Users\\\\rizky\\\\Datasets\\\\Capstone-SIBI\\\\ml\\\\ModelV2NoAug\\\\model.h5')"
   ]
  },
  {
   "cell_type": "code",
   "execution_count": 27,
   "id": "bb8223de-0456-4c85-bfb8-168bbaccbc5b",
   "metadata": {},
   "outputs": [],
   "source": [
    "label = target = df.pop('Label')"
   ]
  },
  {
   "cell_type": "code",
   "execution_count": 34,
   "id": "451974f6-8785-4170-ac3f-29fe72e72923",
   "metadata": {},
   "outputs": [],
   "source": [
    "datasets = tf.data.Dataset.from_tensor_slices((df.values, target.values))"
   ]
  },
  {
   "cell_type": "code",
   "execution_count": 42,
   "id": "87de142c-6276-4546-999c-10c7f040945a",
   "metadata": {},
   "outputs": [],
   "source": [
    "def representative_dataset():\n",
    "    for _ in range(100):\n",
    "      data = np.random.rand(1, 224, 224, 3)\n",
    "      yield [data.astype(np.float32)]"
   ]
  },
  {
   "cell_type": "code",
   "execution_count": 43,
   "id": "24ad0687-3ce4-4284-b6ff-56d8ce93fd90",
   "metadata": {},
   "outputs": [
    {
     "name": "stdout",
     "output_type": "stream",
     "text": [
      "INFO:tensorflow:Assets written to: C:\\Users\\rizky\\AppData\\Local\\Temp\\tmpx41b2ot3\\assets\n"
     ]
    },
    {
     "name": "stderr",
     "output_type": "stream",
     "text": [
      "INFO:tensorflow:Assets written to: C:\\Users\\rizky\\AppData\\Local\\Temp\\tmpx41b2ot3\\assets\n",
      "WARNING:absl:For model inputs containing unsupported operations which cannot be quantized, the `inference_input_type` attribute will default to the original type.\n"
     ]
    }
   ],
   "source": [
    "converter = tf.lite.TFLiteConverter.from_keras_model(model)\n",
    "converter.optimizations = [tf.lite.Optimize.DEFAULT]\n",
    "converter.representative_dataset = representative_dataset\n",
    "converter.target_spec.supported_ops = [tf.lite.OpsSet.TFLITE_BUILTINS_INT8]\n",
    "converter.inference_input_type = tf.uint8  # or tf.uint8\n",
    "converter.inference_output_type = tf.uint8  # or tf.uint8\n",
    "tflite_quant_model = converter.convert()\n",
    "with open('signLanguage2_uin8.tflite', 'wb') as f:\n",
    "  f.write(tflite_quant_model)"
   ]
  },
  {
   "cell_type": "code",
   "execution_count": null,
   "id": "be48f642-b27b-48e3-b3d3-45999c508764",
   "metadata": {},
   "outputs": [],
   "source": []
  }
 ],
 "metadata": {
  "kernelspec": {
   "display_name": "Python 3",
   "language": "python",
   "name": "python3"
  },
  "language_info": {
   "codemirror_mode": {
    "name": "ipython",
    "version": 3
   },
   "file_extension": ".py",
   "mimetype": "text/x-python",
   "name": "python",
   "nbconvert_exporter": "python",
   "pygments_lexer": "ipython3",
   "version": "3.9.5"
  }
 },
 "nbformat": 4,
 "nbformat_minor": 5
}
