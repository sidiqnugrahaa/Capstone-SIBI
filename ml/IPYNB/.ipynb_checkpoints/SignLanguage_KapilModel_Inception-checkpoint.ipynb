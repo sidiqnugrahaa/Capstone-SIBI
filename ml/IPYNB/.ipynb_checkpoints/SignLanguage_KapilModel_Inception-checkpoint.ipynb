{
 "cells": [
  {
   "cell_type": "code",
   "execution_count": 1,
   "id": "2e864543-52f3-491c-86d9-44d3406818a7",
   "metadata": {},
   "outputs": [],
   "source": [
    "import numpy as np\n",
    "import pandas as pd\n",
    "from pathlib import Path\n",
    "import os.path\n",
    "import matplotlib.pyplot as plt\n",
    "import tensorflow as tf\n",
    "import seaborn as sns\n",
    "from time import perf_counter\n",
    "from sklearn.metrics import confusion_matrix\n",
    "from sklearn.model_selection import train_test_split\n",
    "from sklearn.metrics import classification_report,accuracy_score\n",
    "from IPython.display import Markdown, display\n",
    "from tensorflow.keras.preprocessing.image import ImageDataGenerator\n",
    "from tensorflow.keras import layers"
   ]
  },
  {
   "cell_type": "code",
   "execution_count": 2,
   "id": "860a4c0b-f5f7-49ee-932f-1d20b511b8cb",
   "metadata": {},
   "outputs": [
    {
     "name": "stdout",
     "output_type": "stream",
     "text": [
      "C:\\Users\\rizky\\Bangkit2021\\Datasets\\Source\\ASL_Dataset\n",
      "153892\n"
     ]
    }
   ],
   "source": [
    "# Create a list with the filepaths for training and testing\n",
    "ext = ['jpeg', 'jpg', 'png']    # Add image formats here\n",
    "files = []\n",
    "file_paths = []\n",
    "dir_ = Path('C:\\\\Users\\\\rizky\\\\Bangkit2021\\\\Datasets\\\\Source\\\\ASL_Dataset')\n",
    "print(dir_)\n",
    "[files.extend(list(dir_.glob(r\"**/*\" + e )) for e in ext)]\n",
    "for i in range(len(files)):\n",
    "    file_paths.extend(files[i])\n",
    "print(len(file_paths))"
   ]
  },
  {
   "cell_type": "code",
   "execution_count": 3,
   "id": "2675efd1-38e7-40f5-aa13-fffc8b5ff3c2",
   "metadata": {},
   "outputs": [
    {
     "name": "stdout",
     "output_type": "stream",
     "text": [
      "['A' 'B' 'C' 'D' 'E' 'F' 'G' 'H' 'I' 'J' 'K' 'L' 'M' 'N' 'O' 'P' 'Q' 'R'\n",
      " 'S' 'T' 'U' 'V' 'W' 'X' 'Y' 'Z']\n"
     ]
    }
   ],
   "source": [
    "#Number of pictures and different labels in dataset\n",
    "def proc_img(filepath):\n",
    "\n",
    "    labels = [str(filepath[i]).split(\"\\\\\")[-2] \\\n",
    "              for i in range(len(filepath))]\n",
    "    filepath = pd.Series(filepath, name='Filepath').astype(str)\n",
    "    labels = pd.Series(labels, name='Label')\n",
    "    print(labels.unique())\n",
    "    # Concatenate filepaths and labels\n",
    "    df = pd.concat([filepath, labels], axis=1)\n",
    "\n",
    "    # Shuffle the DataFrame and reset index\n",
    "    df = df.sample(frac=1,random_state=0).reset_index(drop = True)\n",
    "    \n",
    "    return df\n",
    "\n",
    "df = proc_img(file_paths)"
   ]
  },
  {
   "cell_type": "code",
   "execution_count": 4,
   "id": "9f5ae7cc-58b8-41bc-81fb-424c6d1a9ba0",
   "metadata": {},
   "outputs": [],
   "source": [
    "train_df, test_df = train_test_split(df,test_size=0.05, random_state=42)"
   ]
  },
  {
   "cell_type": "code",
   "execution_count": 8,
   "id": "f4348cd7-3ee1-4fca-8898-e4ff3378810b",
   "metadata": {},
   "outputs": [
    {
     "name": "stdout",
     "output_type": "stream",
     "text": [
      "Found 131578 validated image filenames belonging to 26 classes.\n",
      "Found 14619 validated image filenames belonging to 26 classes.\n",
      "Found 7695 validated image filenames belonging to 26 classes.\n"
     ]
    }
   ],
   "source": [
    "train_generator = ImageDataGenerator(\n",
    "    preprocessing_function=tf.keras.applications.inception_v3.preprocess_input,\n",
    "    validation_split=0.1\n",
    ")\n",
    "\n",
    "test_generator = ImageDataGenerator(\n",
    "    preprocessing_function=tf.keras.applications.inception_v3.preprocess_input\n",
    ")\n",
    "\n",
    "train_images = train_generator.flow_from_dataframe(\n",
    "    dataframe=train_df,\n",
    "    x_col='Filepath',\n",
    "    y_col='Label',\n",
    "    target_size=(400, 400),\n",
    "    color_mode='rgb',\n",
    "    class_mode='categorical',\n",
    "    batch_size=32,\n",
    "    shuffle=True,\n",
    "    seed=0,\n",
    "    subset='training',\n",
    "    brightness_range=[0.7,1.3]\n",
    ")\n",
    "\n",
    "val_images = train_generator.flow_from_dataframe(\n",
    "    dataframe=train_df,\n",
    "    x_col='Filepath',\n",
    "    y_col='Label',\n",
    "    target_size=(400, 400),\n",
    "    color_mode='rgb',\n",
    "    class_mode='categorical',\n",
    "    batch_size=32,\n",
    "    shuffle=True,\n",
    "    seed=0,\n",
    "    subset='validation',\n",
    "    brightness_range=[0.7,1.3]\n",
    ")\n",
    "\n",
    "test_images = test_generator.flow_from_dataframe(\n",
    "    dataframe=test_df,\n",
    "    x_col='Filepath',\n",
    "    y_col='Label',\n",
    "    target_size=(400, 400),\n",
    "    color_mode='rgb',\n",
    "    class_mode='categorical',\n",
    "    batch_size=32,\n",
    "    shuffle=False\n",
    ")"
   ]
  },
  {
   "cell_type": "code",
   "execution_count": 17,
   "id": "4905c64b-9b22-41df-9092-ab05b679ef0d",
   "metadata": {},
   "outputs": [],
   "source": [
    "kwargs =    {'input_shape':(400, 400, 3),\n",
    "            'include_top':False,\n",
    "            'weights':'imagenet',\n",
    "            'pooling':'avg'}\n",
    "pretrained_model = tf.keras.applications.InceptionV3(**kwargs)\n",
    "pretrained_model.trainable = False\n",
    "\n",
    "inputs = pretrained_model.input\n",
    "\n",
    "x = layers.Dense(128, activation='relu')(pretrained_model.output)\n",
    "x = layers.Dropout(0.2)(x)  \n",
    "x = layers.Dense(256, activation='relu')(x)\n",
    "x = layers.Dropout(0.2)(x)  \n",
    "outputs = layers.Dense(26, activation='softmax')(x)\n",
    "\n",
    "model = tf.keras.Model(inputs=inputs, outputs=outputs)\n",
    "\n",
    "model.compile(\n",
    "    optimizer='adam',\n",
    "    loss='categorical_crossentropy',\n",
    "    metrics=['accuracy']\n",
    ")"
   ]
  },
  {
   "cell_type": "code",
   "execution_count": null,
   "id": "f9693067-714d-472f-825d-307915453478",
   "metadata": {},
   "outputs": [
    {
     "name": "stdout",
     "output_type": "stream",
     "text": [
      " 117/4112 [..............................] - ETA: 31:03 - loss: 1.5675 - accuracy: 0.5572"
     ]
    }
   ],
   "source": [
    "history = model.fit(train_images,\n",
    "                    validation_data=val_images,\n",
    "                    epochs=1,\n",
    "                    callbacks=[\n",
    "                        tf.keras.callbacks.EarlyStopping(\n",
    "                            monitor='val_loss',\n",
    "                            patience=3,\n",
    "                            restore_best_weights=True)],\n",
    "                    )\n"
   ]
  },
  {
   "cell_type": "code",
   "execution_count": 11,
   "id": "d77660dc-3cf6-4c22-b012-9b22c4dc4a36",
   "metadata": {},
   "outputs": [
    {
     "data": {
      "image/png": "[encoded data removed]",
      "text/plain": [
       "<Figure size 432x288 with 1 Axes>"
      ]
     },
     "metadata": {
      "needs_background": "light"
     },
     "output_type": "display_data"
    },
    {
     "data": {
      "text/plain": [
       "<Figure size 432x288 with 0 Axes>"
      ]
     },
     "metadata": {},
     "output_type": "display_data"
    }
   ],
   "source": [
    "import matplotlib.pyplot as plt\n",
    "acc = history.history['accuracy']\n",
    "val_acc = history.history['val_accuracy']\n",
    "loss = history.history['loss']\n",
    "val_loss = history.history['val_loss']\n",
    "\n",
    "epochs = range(len(acc))\n",
    "\n",
    "plt.plot(epochs, acc, 'r', label='Training accuracy')\n",
    "plt.plot(epochs, val_acc, 'b', label='Validation accuracy')\n",
    "plt.title('Training and validation accuracy')\n",
    "plt.legend(loc=0)\n",
    "plt.figure()\n",
    "\n",
    "\n",
    "plt.show()"
   ]
  },
  {
   "cell_type": "code",
   "execution_count": null,
   "id": "e83f8557-b0e9-46e6-bc0c-1bd83914dbb8",
   "metadata": {},
   "outputs": [],
   "source": [
    "pred = model.predict(test_images)\n",
    "pred = np.argmax(pred,axis=1)\n",
    "\n",
    "# Map the label\n",
    "labels = (train_images.class_indices)\n",
    "labels = dict((v,k) for k,v in labels.items())\n",
    "pred = [labels[k] for k in pred]\n",
    "\n",
    "# Get the accuracy on the test set\n",
    "y_test = list(test_df.Label)\n",
    "acc = accuracy_score(y_test,pred)\n",
    "\n",
    "# Display a confusion matrix\n",
    "cf_matrix = confusion_matrix(y_test, pred, normalize='true')\n",
    "plt.figure(figsize = (17,12))\n",
    "sns.heatmap(cf_matrix, annot=True, xticklabels = sorted(set(y_test)), yticklabels = sorted(set(y_test)),cbar=False)\n",
    "plt.title('Normalized Confusion Matrix', fontsize = 23)\n",
    "plt.xticks(fontsize=12,rotation=45)\n",
    "plt.yticks(fontsize=12)\n",
    "plt.savefig(\"C:\\Users\\rizky\\Bangkit2021\\Project\\Capstone-SIBI\\ml\\ModelKapilSL_InceptionV3\\conf_matrix.png\")\n",
    "plt.show()\n"
   ]
  },
  {
   "cell_type": "code",
   "execution_count": 32,
   "id": "672ba7db-f439-4453-b8f7-6e3c1036d335",
   "metadata": {},
   "outputs": [
    {
     "name": "stdout",
     "output_type": "stream",
     "text": [
      "97.64363636363636\n"
     ]
    }
   ],
   "source": [
    "print(\"{}\".format(acc*100))"
   ]
  },
  {
   "cell_type": "code",
   "execution_count": 13,
   "id": "b363e0a1-f617-482f-aa71-8b049a22c71f",
   "metadata": {},
   "outputs": [],
   "source": [
    "##save model\n",
    "model.save(\"C:\\\\Users\\\\rizky\\\\Bangkit2021\\\\Project\\\\Capstone-SIBI\\\\ml\\\\ModelKapilSL_InceptionV3\")"
   ]
  },
  {
   "cell_type": "code",
   "execution_count": 14,
   "id": "ad6b4a03-ec9e-4aa6-9f45-4e192de90121",
   "metadata": {},
   "outputs": [
    {
     "name": "stdout",
     "output_type": "stream",
     "text": [
      "INFO:tensorflow:Assets written to: C:\\Users\\rizky\\AppData\\Local\\Temp\\tmpdujltj48\\assets\n"
     ]
    }
   ],
   "source": [
    "# Convert the model.\n",
    "converter = tf.lite.TFLiteConverter.from_keras_model(model)\n",
    "tflite_model = converter.convert()\n",
    "with open('signLanguage2.tflite', 'wb') as f:\n",
    "  f.write(tflite_model)"
   ]
  },
  {
   "cell_type": "code",
   "execution_count": 15,
   "id": "475242e8-6630-4df7-9aa5-252f0090bece",
   "metadata": {},
   "outputs": [
    {
     "name": "stdout",
     "output_type": "stream",
     "text": [
      "INFO:tensorflow:Assets written to: C:\\Users\\rizky\\AppData\\Local\\Temp\\tmpxqv_cr45\\assets\n"
     ]
    },
    {
     "name": "stderr",
     "output_type": "stream",
     "text": [
      "INFO:tensorflow:Assets written to: C:\\Users\\rizky\\AppData\\Local\\Temp\\tmpxqv_cr45\\assets\n"
     ]
    }
   ],
   "source": [
    "#Convert to int8\n",
    "converter = tf.lite.TFLiteConverter.from_keras_model(model)\n",
    "converter.optimizations = [tf.lite.Optimize.DEFAULT] \n",
    "tflite_quant_model = converter.convert()\n",
    "with open('signLanguage2_int8.tflite', 'wb') as f:\n",
    "  f.write(tflite_quant_model)"
   ]
  },
  {
   "cell_type": "code",
   "execution_count": 16,
   "id": "d5fd42a5-7260-4921-b517-9c33ec75fb0b",
   "metadata": {},
   "outputs": [
    {
     "name": "stdout",
     "output_type": "stream",
     "text": [
      "INFO:tensorflow:Assets written to: C:\\Users\\rizky\\AppData\\Local\\Temp\\tmpc6dmi2gd\\assets\n"
     ]
    },
    {
     "name": "stderr",
     "output_type": "stream",
     "text": [
      "INFO:tensorflow:Assets written to: C:\\Users\\rizky\\AppData\\Local\\Temp\\tmpc6dmi2gd\\assets\n"
     ]
    }
   ],
   "source": [
    "#Convert to a float16 quantization\n",
    "converter.target_spec.supported_types = [tf.float16]\n",
    "tflite_fp16_model = converter.convert()\n",
    "#Save the model\n",
    "with open('signLanguage2_f16.tflite', 'wb') as f:\n",
    "  f.write(tflite_fp16_model)"
   ]
  },
  {
   "cell_type": "code",
   "execution_count": null,
   "id": "ec568950-634c-41be-b1ac-d69f1c60618f",
   "metadata": {},
   "outputs": [],
   "source": []
  }
 ],
 "metadata": {
  "kernelspec": {
   "display_name": "Python 3",
   "language": "python",
   "name": "python3"
  },
  "language_info": {
   "codemirror_mode": {
    "name": "ipython",
    "version": 3
   },
   "file_extension": ".py",
   "mimetype": "text/x-python",
   "name": "python",
   "nbconvert_exporter": "python",
   "pygments_lexer": "ipython3",
   "version": "3.9.5"
  }
 },
 "nbformat": 4,
 "nbformat_minor": 5
}
